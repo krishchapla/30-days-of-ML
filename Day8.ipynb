{
  "cells": [
    {
      "cell_type": "code",
      "source": [
        "import pandas as pd\n",
        "import numpy as np\n",
        "df = pd.read_csv('/content/drive/MyDrive/Datasets/hpi_master.csv')"
      ],
      "metadata": {
        "id": "E6he4TiyUbuc"
      },
      "execution_count": null,
      "outputs": []
    },
    {
      "cell_type": "code",
      "metadata": {
        "id": "9ed2ecda"
      },
      "source": [
        "from sklearn.model_selection import train_test_split\n",
        "\n",
        "X = df.drop('index_nsa', axis=1)\n",
        "y = df['index_nsa']\n",
        "\n",
        "X_train, X_test, y_train, y_test = train_test_split(X, y, test_size=0.2, random_state=42)"
      ],
      "execution_count": null,
      "outputs": []
    },
    {
      "cell_type": "code",
      "metadata": {
        "colab": {
          "base_uri": "https://localhost:8080/"
        },
        "id": "5eba2803",
        "outputId": "dd3c15bb-42cb-4f21-a7a0-44f34ce4614d"
      },
      "source": [
        "from sklearn.model_selection import cross_val_score\n",
        "from sklearn.linear_model import LinearRegression\n",
        "from sklearn.metrics import mean_squared_error\n",
        "import numpy as np\n",
        "\n",
        "# Assuming X_numeric and y are already defined and preprocessed (e.g., missing values handled)\n",
        "\n",
        "model = LinearRegression()\n",
        "\n",
        "# Perform cross-validation using cross_val_score\n",
        "# 'neg_mean_squared_error' is used because cross_val_score maximizes the score,\n",
        "# so we use the negative of MSE and then take the absolute value or negate it back\n",
        "mse_scores = -cross_val_score(model, X_numeric, y, cv=5, scoring='neg_mean_squared_error')\n",
        "\n",
        "print(f\"Mean MSE across folds: {np.mean(mse_scores)}\")\n",
        "print(f\"MSE scores for each fold: {mse_scores}\")"
      ],
      "execution_count": null,
      "outputs": [
        {
          "output_type": "stream",
          "name": "stdout",
          "text": [
            "Mean MSE across folds: 4603.544406144521\n",
            "MSE scores for each fold: [2453.67891026 2682.06047767 7939.82419312 8424.59400374 1517.56444595]\n"
          ]
        }
      ]
    },
    {
      "cell_type": "code",
      "metadata": {
        "colab": {
          "base_uri": "https://localhost:8080/",
          "height": 69
        },
        "id": "fdd0ad9c",
        "outputId": "00a735d7-738c-4413-b83a-a8c4215a06b9"
      },
      "source": [
        "display(df.columns)"
      ],
      "execution_count": null,
      "outputs": [
        {
          "output_type": "display_data",
          "data": {
            "text/plain": [
              "Index(['hpi_type', 'hpi_flavor', 'frequency', 'level', 'place_name',\n",
              "       'place_id', 'yr', 'period', 'index_nsa', 'index_sa'],\n",
              "      dtype='object')"
            ]
          },
          "metadata": {}
        }
      ]
    },
    {
      "cell_type": "code",
      "metadata": {
        "colab": {
          "base_uri": "https://localhost:8080/",
          "height": 178
        },
        "id": "3a3be7de",
        "outputId": "fa18ceb3-39c6-4b1a-cc55-056089296f71"
      },
      "source": [
        "display(X_numeric.isnull().sum())"
      ],
      "execution_count": null,
      "outputs": [
        {
          "output_type": "display_data",
          "data": {
            "text/plain": [
              "yr              0\n",
              "period          0\n",
              "index_sa    87268\n",
              "dtype: int64"
            ],
            "text/html": [
              "<div>\n",
              "<style scoped>\n",
              "    .dataframe tbody tr th:only-of-type {\n",
              "        vertical-align: middle;\n",
              "    }\n",
              "\n",
              "    .dataframe tbody tr th {\n",
              "        vertical-align: top;\n",
              "    }\n",
              "\n",
              "    .dataframe thead th {\n",
              "        text-align: right;\n",
              "    }\n",
              "</style>\n",
              "<table border=\"1\" class=\"dataframe\">\n",
              "  <thead>\n",
              "    <tr style=\"text-align: right;\">\n",
              "      <th></th>\n",
              "      <th>0</th>\n",
              "    </tr>\n",
              "  </thead>\n",
              "  <tbody>\n",
              "    <tr>\n",
              "      <th>yr</th>\n",
              "      <td>0</td>\n",
              "    </tr>\n",
              "    <tr>\n",
              "      <th>period</th>\n",
              "      <td>0</td>\n",
              "    </tr>\n",
              "    <tr>\n",
              "      <th>index_sa</th>\n",
              "      <td>87268</td>\n",
              "    </tr>\n",
              "  </tbody>\n",
              "</table>\n",
              "</div><br><label><b>dtype:</b> int64</label>"
            ]
          },
          "metadata": {}
        }
      ]
    }
  ],
  "metadata": {
    "colab": {
      "provenance": []
    },
    "kernelspec": {
      "display_name": "Python 3",
      "name": "python3"
    },
    "language_info": {
      "name": "python"
    }
  },
  "nbformat": 4,
  "nbformat_minor": 0
}